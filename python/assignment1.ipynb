{
 "cells": [
  {
   "cell_type": "code",
   "execution_count": 2,
   "metadata": {},
   "outputs": [
    {
     "name": "stdout",
     "output_type": "stream",
     "text": [
      "Enter a string : character\n",
      "rac\n"
     ]
    }
   ],
   "source": [
    "#input string of odd legth(atleast 9 characters),print string made of the 3 middle characters from input string\n",
    "str1=input(\"Enter a string : \")\n",
    "a=len(str1)\n",
    "if a<9 or a%2==0:\n",
    "  print(\"Please enter a string of odd length with minimum 9 characters!!!\")\n",
    "else:\n",
    "  i=(a//2)-1\n",
    "  j=i+3\n",
    "  print(str1[i:j])\n"
   ]
  },
  {
   "cell_type": "code",
   "execution_count": 18,
   "metadata": {},
   "outputs": [
    {
     "name": "stdout",
     "output_type": "stream",
     "text": [
      "Enter the limit: 5\n",
      "Sum of  natural numbers =  15\n",
      "Average of natural numbers =  3.0\n"
     ]
    }
   ],
   "source": [
    "#calculate the sum and aveage of n natural numbers\n",
    "#using for loop\n",
    "n=int(input(\"Enter the limit: \"))\n",
    "if n<0:\n",
    "  print(\"Please enter a positive integer\")\n",
    "else:\n",
    "  sum=0\n",
    "  avg=0\n",
    "  for i in range(1,n+1):\n",
    "    sum+=i\n",
    "  avg=sum/n\n",
    "  print(f'Sum of  natural numbers = ',sum)\n",
    "  print(f'Average of natural numbers = ',avg)\n"
   ]
  },
  {
   "cell_type": "code",
   "execution_count": 23,
   "metadata": {},
   "outputs": [
    {
     "name": "stdout",
     "output_type": "stream",
     "text": [
      "Enter the limit: 4\n",
      "Sum of  natural numbers = 10\n",
      "Average of natural numbers = 2.5\n"
     ]
    }
   ],
   "source": [
    "#using while loop\n",
    "n=int(input(\"Enter the limit: \"))\n",
    "if n<0:\n",
    "  print(\"Please enter a positive integer\")\n",
    "else:\n",
    "  sum=0\n",
    "  i=1\n",
    "  while i<=n:\n",
    "    sum+=i\n",
    "    i=i+1\n",
    "  avg=sum/n\n",
    "  print(f'Sum of  natural numbers =',sum)\n",
    "  print(f'Average of natural numbers =',avg)\n"
   ]
  },
  {
   "cell_type": "code",
   "execution_count": 26,
   "metadata": {},
   "outputs": [
    {
     "name": "stdout",
     "output_type": "stream",
     "text": [
      "Enter 5 float numbers \n",
      "1\n",
      "2\n",
      "3\n",
      "4\n",
      "5\n",
      "[1.0, 2.0, 3.0, 4.0, 5.0]\n"
     ]
    }
   ],
   "source": [
    "#accept list of 5 float numbers as input from user using loop nd store values in the list\n",
    "list1=[]\n",
    "print(\"Enter 5 float numbers \")\n",
    "for i in range(5):\n",
    "  a=float(input())\n",
    "  list1.append(a)\n",
    "print(list1)\n"
   ]
  },
  {
   "cell_type": "code",
   "execution_count": 28,
   "metadata": {},
   "outputs": [
    {
     "name": "stdout",
     "output_type": "stream",
     "text": [
      "Enter the number of rows: 5\n",
      "1 \n",
      "\n",
      "1 2 \n",
      "\n",
      "1 2 3 \n",
      "\n",
      "1 2 3 4 \n",
      "\n",
      "1 2 3 4 5 \n",
      "\n"
     ]
    }
   ],
   "source": [
    "#print the following pattern\n",
    "#1\n",
    "#1 2\n",
    "#1 2 3\n",
    "#1 2 3 4\n",
    "#1 2 3 4 5\n",
    "r=input(\"Enter the number of rows: \")\n",
    "i=1\n",
    "for i in range(1,int(r)+1):\n",
    "  for j in range(1,i+1):\n",
    "    print(j,end=\" \")\n",
    "  print(\"\\n\")\n"
   ]
  },
  {
   "cell_type": "code",
   "execution_count": 31,
   "metadata": {},
   "outputs": [
    {
     "name": "stdout",
     "output_type": "stream",
     "text": [
      "Enter the number of rows: 5\n",
      "5 4 3 2 1 \n",
      "\n",
      "4 3 2 1 \n",
      "\n",
      "3 2 1 \n",
      "\n",
      "2 1 \n",
      "\n",
      "1 \n",
      "\n"
     ]
    }
   ],
   "source": [
    "#5 4 3 2 1\n",
    "#4 3 2 1\n",
    "#3 2 1\n",
    "#2 1\n",
    "#1\n",
    "r=int(input(\"Enter the number of rows: \"))\n",
    "i=1\n",
    "for i in range(r,0,-1):\n",
    "  for j in range(i,0,-1):\n",
    "    print(j,end=\" \")\n",
    "  print(\"\\n\")"
   ]
  },
  {
   "cell_type": "code",
   "execution_count": 33,
   "metadata": {},
   "outputs": [
    {
     "name": "stdout",
     "output_type": "stream",
     "text": [
      "Enter any number: 4\n",
      "Total Number of Digits =  1\n"
     ]
    }
   ],
   "source": [
    "#input a number,count and print total number of digits in that number using while loop\n",
    "num=int(input(\"Enter any number: \"))\n",
    "count=0\n",
    "while num!=0:\n",
    "  num=num//10\n",
    "  count=count+1\n",
    "print(\"Total Number of Digits = \",count)\n"
   ]
  },
  {
   "cell_type": "code",
   "execution_count": 36,
   "metadata": {},
   "outputs": [
    {
     "name": "stdout",
     "output_type": "stream",
     "text": [
      "[4, 6, 12, 12, 20, 18, 28]\n"
     ]
    }
   ],
   "source": [
    "#give two lists.create a third list by picking an odd index element from the first list and even index element from second\n",
    "listOne = [3, 6, 9, 12, 15, 18, 21]\n",
    "listTwo = [4, 8, 12, 16, 20, 24, 28]\n",
    "listThree=[]\n",
    "for j in range(0,len(listTwo),2):\n",
    "    listThree.insert(j,listTwo[j])\n",
    "for i in range(1,len(listOne),2):\n",
    "    listThree.insert(i,listOne[i])   \n",
    "print(listThree)\n",
    "\n"
   ]
  },
  {
   "cell_type": "code",
   "execution_count": 38,
   "metadata": {},
   "outputs": [
    {
     "name": "stdout",
     "output_type": "stream",
     "text": [
      "Enter the limit: 4\n",
      "1\n",
      "2\n",
      "5\n",
      "7\n",
      "Your List is : [1, 2, 5, 7]\n",
      "Smallest element is:  1\n"
     ]
    }
   ],
   "source": [
    "#program to get smallest number from a list\n",
    "limit=int(input(\"Enter the limit: \"))\n",
    "list1=[]\n",
    "for i in range(limit):\n",
    "  value=int(input())\n",
    "  list1.append(value)\n",
    "print(\"Your List is :\",list1)\n",
    "print(\"Smallest element is: \",min(list1))\n",
    "\n"
   ]
  },
  {
   "cell_type": "code",
   "execution_count": 40,
   "metadata": {},
   "outputs": [
    {
     "name": "stdout",
     "output_type": "stream",
     "text": [
      "50\n",
      "40\n",
      "30\n",
      "20\n",
      "10\n"
     ]
    }
   ],
   "source": [
    "#reverse the following list using for loop and range[do not usereverse or reversed like functions]\n",
    "list1=[10,20,30,40,50]\n",
    "for i in range(len(list1)-1,-1,-1):\n",
    "  print(list1[i])"
   ]
  },
  {
   "cell_type": "code",
   "execution_count": null,
   "metadata": {},
   "outputs": [],
   "source": []
  }
 ],
 "metadata": {
  "kernelspec": {
   "display_name": "Python 3",
   "language": "python",
   "name": "python3"
  },
  "language_info": {
   "codemirror_mode": {
    "name": "ipython",
    "version": 3
   },
   "file_extension": ".py",
   "mimetype": "text/x-python",
   "name": "python",
   "nbconvert_exporter": "python",
   "pygments_lexer": "ipython3",
   "version": "3.8.3"
  }
 },
 "nbformat": 4,
 "nbformat_minor": 4
}

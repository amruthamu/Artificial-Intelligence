{
 "cells": [
  {
   "cell_type": "code",
   "execution_count": 16,
   "metadata": {
    "colab": {
     "base_uri": "https://localhost:8080/",
     "height": 35
    },
    "id": "0Upq-K1Zrpae",
    "outputId": "2f39e93d-aa72-495d-b1c9-71aa30107ab7"
   },
   "outputs": [
    {
     "name": "stdout",
     "output_type": "stream",
     "text": [
      "Writing doc_file.txt\n"
     ]
    }
   ],
   "source": [
    "# Q1 : create a txt file, enter multiple lines of text. read this file line by line and store it into a list. Apply exception handling technique\n",
    "\n",
    "\n",
    "# creating a file named doc_file\n",
    "\n",
    "%%writefile doc_file.txt \n",
    "Lorem Ipsum is simply dummy text of the printing and typesetting industry.\n",
    "Lorem Ipsum has been the industry's standard dummy text ever since the 1500s, when an unknown printer took a galley of type and scrambled it to make a type specimen book.\n",
    "It has survived not only five centuries, but also the leap into electronic typesetting, remaining essentially unchanged.\n",
    "It was popularised in the 1960s with the release of Letraset sheets containing Lorem Ipsum passages, and more recently with desktop publishing software like Aldus PageMaker including versions of Lorem Ipsum.\n"
   ]
  },
  {
   "cell_type": "code",
   "execution_count": 27,
   "metadata": {
    "colab": {
     "base_uri": "https://localhost:8080/",
     "height": 183
    },
    "id": "L4gY0FpR9sg6",
    "outputId": "c8659f65-b479-44fa-ee01-e57a2cd7fd11"
   },
   "outputs": [
    {
     "name": "stdout",
     "output_type": "stream",
     "text": [
      "Lorem Ipsum is simply dummy text of the printing and typesetting industry.\n",
      "\n",
      "Lorem Ipsum has been the industry's standard dummy text ever since the 1500s, when an unknown printer took a galley of type and scrambled it to make a type specimen book.\n",
      "\n",
      "It has survived not only five centuries, but also the leap into electronic typesetting, remaining essentially unchanged.\n",
      "\n",
      "It was popularised in the 1960s with the release of Letraset sheets containing Lorem Ipsum passages, and more recently with desktop publishing software like Aldus PageMaker including versions of Lorem Ipsum.\n",
      ".................................................. Task completed ..................................................\n"
     ]
    }
   ],
   "source": [
    "try:\n",
    "  myfile=open(\"doc_file.txt\",\"r\") # open doc_file\n",
    "  myfile.seek(0)\n",
    "  lines=myfile.readlines()\n",
    "  lst=[line for line in lines] # read the contents line by line from  doc_file and store it into a list 'lst'\n",
    "  for i in lst:\n",
    "    print(i)\n",
    "except:\n",
    "  print(\"Couldn't Open File...!\")\n",
    "else:\n",
    "  print(\".\"*50,\"Task completed\",\".\"*50)"
   ]
  },
  {
   "cell_type": "code",
   "execution_count": null,
   "metadata": {
    "colab": {
     "base_uri": "https://localhost:8080/",
     "height": 145
    },
    "id": "6iW1C-25EQd3",
    "outputId": "8eb043b4-f86b-4124-a03e-429563b859cd"
   },
   "outputs": [
    {
     "name": "stdout",
     "output_type": "stream",
     "text": [
      "Red\n",
      "Green\n",
      "White\n",
      "Black\n",
      "Pink\n",
      "Yellow\n",
      "\n"
     ]
    }
   ],
   "source": [
    "# Q2: Write a Python program to write below list content to a file. Apply exception handling technique color = ['Red', 'Green', 'White', 'Black', 'Pink', 'Yellow']\n",
    "\n",
    "color = ['Red', 'Green', 'White', 'Black', 'Pink', 'Yellow']\n",
    "try:\n",
    "  f=open('listfile.txt', 'w+')\n",
    "  for i in color:\n",
    "    f.write(i)\n",
    "    f.write(\"\\n\")\n",
    "except:\n",
    "  print(\"Couldn't write to the file....!\")\n",
    "f.seek(0)\n",
    "print(f.read())"
   ]
  },
  {
   "cell_type": "code",
   "execution_count": 29,
   "metadata": {
    "colab": {
     "base_uri": "https://localhost:8080/",
     "height": 35
    },
    "id": "Fi0KfFCrKvWz",
    "outputId": "5309f4fb-915c-4482-e4c5-6f89e34a00ef"
   },
   "outputs": [
    {
     "name": "stdout",
     "output_type": "stream",
     "text": [
      "Writing text_file.txt\n"
     ]
    }
   ],
   "source": [
    "# Q3 : create a txt file, enter multiple lines of text. remove newline characters from created file and print as a list. Apply exception handling techniques wherever possible\n",
    "\n",
    "%%writefile text_file.txt \n",
    "Lorem Ipsum is simply dummy text of the printing and typesetting industry.\n",
    "Lorem Ipsum has been the industry's standard dummy text ever since the 1500s, when an unknown printer took a galley of type and scrambled it to make a type specimen book.\n",
    "It has survived not only five centuries, but also the leap into electronic typesetting, remaining essentially unchanged.\n",
    "It was popularised in the 1960s with the release of Letraset sheets containing Lorem Ipsum passages, and more recently with desktop publishing software like Aldus PageMaker including versions of Lorem Ipsum.\n"
   ]
  },
  {
   "cell_type": "code",
   "execution_count": 30,
   "metadata": {
    "colab": {
     "base_uri": "https://localhost:8080/",
     "height": 55
    },
    "id": "lqUj2F21KzDQ",
    "outputId": "455ebec1-1a8e-4d02-dff9-d67b260927ac"
   },
   "outputs": [
    {
     "name": "stdout",
     "output_type": "stream",
     "text": [
      "['Lorem Ipsum is simply dummy text of the printing and typesetting industry.', \"Lorem Ipsum has been the industry's standard dummy text ever since the 1500s, when an unknown printer took a galley of type and scrambled it to make a type specimen book.\", 'It has survived not only five centuries, but also the leap into electronic typesetting, remaining essentially unchanged.', 'It was popularised in the 1960s with the release of Letraset sheets containing Lorem Ipsum passages, and more recently with desktop publishing software like Aldus PageMaker including versions of Lorem Ipsum.']\n"
     ]
    }
   ],
   "source": [
    "try:\n",
    "  fo=open(\"text_file.txt\")\n",
    "  list1=[]\n",
    "  for i in fo:\n",
    "    list1.append(i.strip(\"\\n\")) #remove '\\n' using strip() method and append the item to list\n",
    "  print(list1)\n",
    "except:\n",
    "  print(\"Error..........\")"
   ]
  },
  {
   "cell_type": "code",
   "execution_count": null,
   "metadata": {
    "colab": {
     "base_uri": "https://localhost:8080/",
     "height": 55
    },
    "id": "Q_t5P2b2Qsxo",
    "outputId": "e3c0ed80-f91e-4a74-eaf3-528a999fdb53"
   },
   "outputs": [
    {
     "name": "stdout",
     "output_type": "stream",
     "text": [
      "Lorem Ipsum is simply dummy text of the printing and typesetting industry.Lorem Ipsum has been the industry's standard dummy text ever since the 1500s, when an unknown printer took a galley of type and scrambled it to make a type specimen book.It has survived not only five centuries, but also the leap into electronic typesetting, remaining essentially unchanged.\n"
     ]
    }
   ],
   "source": [
    "# Q4 : create a testfile1.txt file, enter multiple lines of text . Now copy contents of testfile1.txt to new file testfile22.txt. Apply exception handling techniques wherever possible\n",
    "\n",
    "try:\n",
    "  f1 = open(\"testfile1.txt\", \"w+\")\n",
    "  f1.write(\"Lorem Ipsum is simply dummy text of the printing and typesetting industry.Lorem Ipsum has been the industry's standard dummy text ever since the 1500s, when an unknown printer took a galley of type and scrambled it to make a type specimen book.It has survived not only five centuries, but also the leap into electronic typesetting, remaining essentially unchanged.\")\n",
    "  \n",
    "except:\n",
    "  print(\"Something Wrong....\")\n",
    "else:\n",
    "  f1.seek(0)\n",
    "  mystr=f1.read()\n",
    "  try:\n",
    "    f2=open(\"testfile22.txt\",\"w+\")\n",
    "    f2.write(mystr) # copy the contents of testfile1.txt to testfile22.txt\n",
    "    f2.seek(0)\n",
    "    print(f2.read())\n",
    "  except:\n",
    "    print(\"couldn't write to the file...\")"
   ]
  }
 ],
 "metadata": {
  "colab": {
   "name": "Assignment_4.ipynb",
   "provenance": []
  },
  "kernelspec": {
   "display_name": "Python 3",
   "language": "python",
   "name": "python3"
  },
  "language_info": {
   "codemirror_mode": {
    "name": "ipython",
    "version": 3
   },
   "file_extension": ".py",
   "mimetype": "text/x-python",
   "name": "python",
   "nbconvert_exporter": "python",
   "pygments_lexer": "ipython3",
   "version": "3.8.3"
  }
 },
 "nbformat": 4,
 "nbformat_minor": 1
}

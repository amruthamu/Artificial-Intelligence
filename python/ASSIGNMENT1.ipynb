{
 "cells": [
  {
   "cell_type": "code",
   "execution_count": 3,
   "metadata": {},
   "outputs": [
    {
     "name": "stdout",
     "output_type": "stream",
     "text": [
      "Enter a string : character\n",
      "rac\n"
     ]
    }
   ],
   "source": [
    "#input a string of odd length (minimum 9 characters),print a string made of 3 middle characters\n",
    "str1=input(\"Enter a string : \")\n",
    "a=len(str1)\n",
    "if a<9 or a%2==0:\n",
    "  print(\"Please enter a string of odd length with minimum 9 characters!!!\")\n",
    "else:\n",
    "  i=(a//2)-1\n",
    "  j=i+3\n",
    "  print(str1[i:j])\n"
   ]
  },
  {
   "cell_type": "code",
   "execution_count": 7,
   "metadata": {},
   "outputs": [
    {
     "name": "stdout",
     "output_type": "stream",
     "text": [
      "Enter the limit: 3\n",
      "Sum of first 3 natural numbers =  6\n",
      "Average of first 3 natural numbers =  2.0\n"
     ]
    }
   ],
   "source": [
    "#calculate sum and average of first n natural numbers\n",
    "#using for loop\n",
    "n=int(input(\"Enter the limit: \"))\n",
    "if n<0:\n",
    "  print(\"Please enter a positive integer\")\n",
    "else:\n",
    "  sum=0\n",
    "  avg=0\n",
    "  for i in range(1,n+1):\n",
    "    sum+=i\n",
    "  avg=sum/n\n",
    "  print(f'Sum of first {n} natural numbers = ',sum)\n",
    "  print(f'Average of first {n} natural numbers = ',avg)\n"
   ]
  },
  {
   "cell_type": "code",
   "execution_count": 9,
   "metadata": {},
   "outputs": [
    {
     "name": "stdout",
     "output_type": "stream",
     "text": [
      "Enter the limit: 5\n",
      "Sum of first 5 natural numbers 15\n",
      "Average of first 5 natural numbers 3.0\n"
     ]
    }
   ],
   "source": [
    "#using while loop\n",
    "num=int(input(\"Enter the limit: \"))\n",
    "if num<0:\n",
    "  print(\"Please enter a positive integer\")\n",
    "else:\n",
    "  sum=0\n",
    "  i=1\n",
    "  while i<=num:\n",
    "    sum+=i\n",
    "    i=i+1\n",
    "  avg=sum/num\n",
    "  print(f'Sum of first {num} natural numbers',sum)\n",
    "  print(f'Average of first {num} natural numbers',avg)\n"
   ]
  },
  {
   "cell_type": "code",
   "execution_count": 11,
   "metadata": {},
   "outputs": [
    {
     "name": "stdout",
     "output_type": "stream",
     "text": [
      "Enter 5 float numbers \n",
      "1\n",
      "2\n",
      "3\n",
      "4\n",
      "5\n",
      "[1.0, 2.0, 3.0, 4.0, 5.0]\n"
     ]
    }
   ],
   "source": [
    "#accept list of 5 float numbers as input from user using loop and store values in list\n",
    "list1=[]\n",
    "print(\"Enter 5 float numbers \")\n",
    "for i in range(5):\n",
    "  v=float(input())\n",
    "  list1.append(v)\n",
    "print(list1)\n"
   ]
  },
  {
   "cell_type": "code",
   "execution_count": 13,
   "metadata": {},
   "outputs": [
    {
     "name": "stdout",
     "output_type": "stream",
     "text": [
      "Enter the number of rows: 5\n",
      "1 \n",
      "\n",
      "1 2 \n",
      "\n",
      "1 2 3 \n",
      "\n",
      "1 2 3 4 \n",
      "\n",
      "1 2 3 4 5 \n",
      "\n"
     ]
    }
   ],
   "source": [
    "#print the following pattern\n",
    "#1\n",
    "#1 2 \n",
    "#1 2 3\n",
    "#1 2 3 4\n",
    "#1 2 3 4 5\n",
    "r=input(\"Enter the number of rows: \")\n",
    "i=1\n",
    "for i in range(1,int(r)+1):\n",
    "  for j in range(1,i+1):\n",
    "    print(j,end=\" \")\n",
    "  print(\"\\n\")"
   ]
  },
  {
   "cell_type": "code",
   "execution_count": 15,
   "metadata": {},
   "outputs": [
    {
     "name": "stdout",
     "output_type": "stream",
     "text": [
      "Enter the number of rows: 5\n",
      "5 4 3 2 1 \n",
      "\n",
      "4 3 2 1 \n",
      "\n",
      "3 2 1 \n",
      "\n",
      "2 1 \n",
      "\n",
      "1 \n",
      "\n"
     ]
    }
   ],
   "source": [
    "#5 4 3 2 1\n",
    "#4 3 2 1\n",
    "#3 2 1\n",
    "#2 1\n",
    "#1\n",
    "r=int(input(\"Enter the number of rows: \"))\n",
    "i=1\n",
    "for i in range(r,0,-1):\n",
    "  for j in range(i,0,-1):\n",
    "    print(j,end=\" \")\n",
    "  print(\"\\n\")"
   ]
  },
  {
   "cell_type": "code",
   "execution_count": 17,
   "metadata": {},
   "outputs": [
    {
     "name": "stdout",
     "output_type": "stream",
     "text": [
      "Enter a number: 5678\n",
      "Total Number of Digits =  4\n"
     ]
    }
   ],
   "source": [
    "#input a number,count and print the total number of digits in the number using while loop\n",
    "num=int(input(\"Enter a number: \"))\n",
    "count=0\n",
    "while num!=0:\n",
    "  num=num//10\n",
    "  count=count+1\n",
    "print(\"Total Number of Digits = \",count)\n"
   ]
  },
  {
   "cell_type": "code",
   "execution_count": 19,
   "metadata": {},
   "outputs": [
    {
     "name": "stdout",
     "output_type": "stream",
     "text": [
      "[4, 6, 12, 12, 20, 18, 28]\n"
     ]
    }
   ],
   "source": [
    "#give two list.create a third list by picking an odd index element from the first list and even index element from second\n",
    "listOne = [3, 6, 9, 12, 15, 18, 21]\n",
    "listTwo = [4, 8, 12, 16, 20, 24, 28]\n",
    "listThree=[]\n",
    "for j in range(0,len(listTwo),2):\n",
    "    listThree.insert(j,listTwo[j])\n",
    "for i in range(1,len(listOne),2):\n",
    "    listThree.insert(i,listOne[i])   \n",
    "print(listThree)\n"
   ]
  },
  {
   "cell_type": "code",
   "execution_count": 21,
   "metadata": {},
   "outputs": [
    {
     "name": "stdout",
     "output_type": "stream",
     "text": [
      "1\n"
     ]
    }
   ],
   "source": [
    "#program to get the smallest number from a list\n",
    "list1=[1,6,8,4,5]\n",
    "s=list1[0]\n",
    "for i in range(1,len(list1)):\n",
    "    if list1[i]<s:\n",
    "        s=list1[i]\n",
    "print(s)        "
   ]
  },
  {
   "cell_type": "code",
   "execution_count": 23,
   "metadata": {},
   "outputs": [
    {
     "name": "stdout",
     "output_type": "stream",
     "text": [
      "50\n",
      "4\n",
      "30\n",
      "20\n",
      "10\n"
     ]
    }
   ],
   "source": [
    "#reverse following list using for loop and range(not use reverse or reversed functions)\n",
    "List1=[10, 20, 30, 4, 50]\n",
    "for i in range( len(List1) - 1, -1, -1) :\n",
    "    print(List1[i])"
   ]
  }
 ],
 "metadata": {
  "kernelspec": {
   "display_name": "Python 3",
   "language": "python",
   "name": "python3"
  },
  "language_info": {
   "codemirror_mode": {
    "name": "ipython",
    "version": 3
   },
   "file_extension": ".py",
   "mimetype": "text/x-python",
   "name": "python",
   "nbconvert_exporter": "python",
   "pygments_lexer": "ipython3",
   "version": "3.8.3"
  }
 },
 "nbformat": 4,
 "nbformat_minor": 4
}

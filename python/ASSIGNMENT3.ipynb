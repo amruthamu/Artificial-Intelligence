{
 "cells": [
  {
   "cell_type": "code",
   "execution_count": 3,
   "metadata": {},
   "outputs": [
    {
     "name": "stdout",
     "output_type": "stream",
     "text": [
      "Enter the First Number: 56\n",
      "Enter the Second Number: 78\n",
      "Addition = 56 + 78 = 134\n",
      "Subtraction = 56 - 78 = -22\n"
     ]
    }
   ],
   "source": [
    "#  Write a function calculation() such that it can accept two variables as arguments and calculate the addition and subtraction of it. And also it must return both addition and subtraction in a single return call\n",
    "\n",
    "def calculation(n1,n2):\n",
    "  add=n1+n2\n",
    "  sub=n1-n2\n",
    "  return add,sub\n",
    "\n",
    "n1=int(input(\"Enter the First Number: \"))\n",
    "n2=int(input(\"Enter the Second Number: \"))\n",
    "addition,subtraction=calculation(n1,n2)\n",
    "\n",
    "print(f'Addition = {n1} + {n2} = {addition}')\n",
    "print(f'Subtraction = {n1} - {n2} = {subtraction}')"
   ]
  },
  {
   "cell_type": "code",
   "execution_count": 5,
   "metadata": {},
   "outputs": [
    {
     "name": "stdout",
     "output_type": "stream",
     "text": [
      "Employee Name is :  Shanil\n",
      "Salary of Shanil is 58000\n",
      "\n",
      "Employee Name is :  Arun\n",
      "Salary of Arun is 9000\n",
      "\n"
     ]
    }
   ],
   "source": [
    "#Create a function showEmployee() in such a way that it should accept employee name, and it’s salary and display both, and if the salary is missing in function call it should show it as 9000\n",
    "\n",
    "\n",
    "def showEmployee(empName,salary=9000):\n",
    "  print(\"Employee Name is : \",empName)\n",
    "  print(f'Salary of {empName} is {salary}')\n",
    "  print(\"\")\n",
    "\n",
    "showEmployee(\"Shanil\",58000) \n",
    "showEmployee(\"Arun\")"
   ]
  },
  {
   "cell_type": "code",
   "execution_count": 7,
   "metadata": {},
   "outputs": [
    {
     "name": "stdout",
     "output_type": "stream",
     "text": [
      "{'a': 1, 'w': 1, 'e': 2, 's': 1, 'o': 1, 'm': 1}\n"
     ]
    }
   ],
   "source": [
    "# Write a function called multipleLetterCount. This function takes in one parameter (a string) and returns a dictionary with the keys being the letters and the value being the count of the letter.\n",
    "\n",
    "def multipleLetterCount(str1):\n",
    "  dict1={}\n",
    "  for ele in str1:\n",
    "    keys=dict1.keys()\n",
    "    if ele in keys:\n",
    "      dict1[ele]=dict1[ele]+1\n",
    "    else:\n",
    "      dict1[ele]=1\n",
    "  return dict1\n",
    "\n",
    "res=multipleLetterCount('awesome')\n",
    "print(dict(res))\n"
   ]
  }
 ],
 "metadata": {
  "kernelspec": {
   "display_name": "Python 3",
   "language": "python",
   "name": "python3"
  },
  "language_info": {
   "codemirror_mode": {
    "name": "ipython",
    "version": 3
   },
   "file_extension": ".py",
   "mimetype": "text/x-python",
   "name": "python",
   "nbconvert_exporter": "python",
   "pygments_lexer": "ipython3",
   "version": "3.8.3"
  }
 },
 "nbformat": 4,
 "nbformat_minor": 4
}

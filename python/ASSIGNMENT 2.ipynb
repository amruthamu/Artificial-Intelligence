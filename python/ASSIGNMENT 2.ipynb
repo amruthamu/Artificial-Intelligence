{
 "cells": [
  {
   "cell_type": "code",
   "execution_count": 11,
   "metadata": {},
   "outputs": [
    {
     "name": "stdout",
     "output_type": "stream",
     "text": [
      "tuple1= (11, [222, 33], 44, 55)\n"
     ]
    }
   ],
   "source": [
    "#Modify the first item (22) of a list inside a following tuple to\n",
    "222\n",
    "tuple1 = (11, [22, 33], 44, 55)\n",
    "lst = list(tuple1)\n",
    "lst[1] = [222,33]\n",
    "tuple1 = tuple(lst)\n",
    "print(\"tuple1=\",tuple1)"
   ]
  },
  {
   "cell_type": "code",
   "execution_count": 9,
   "metadata": {},
   "outputs": [
    {
     "name": "stdout",
     "output_type": "stream",
     "text": [
      "Number of occurrences =  2\n"
     ]
    }
   ],
   "source": [
    "#Count the number of occurrences of item 50 from a tuple\n",
    "def occitem(tuple1,a):\n",
    "  count=0\n",
    "  for i in tuple1:\n",
    "    if i==a:\n",
    "      count=count+1\n",
    "  return count\n",
    "\n",
    "tuple1 = (50, 10, 60, 70, 50)\n",
    "a=50\n",
    "print(\"Number of occurrences = \",occitem(tuple1,a))"
   ]
  },
  {
   "cell_type": "code",
   "execution_count": 12,
   "metadata": {},
   "outputs": [
    {
     "name": "stdout",
     "output_type": "stream",
     "text": [
      "Enter the number of elements: 4\n",
      "1\n",
      "2\n",
      "3\n",
      "4\n",
      "Resultant Tuple after conversion ('1', '2', '3', '4')\n"
     ]
    }
   ],
   "source": [
    "# Write a Python program to convert a list to a tuple\n",
    "def convertion(lst):\n",
    "  tpl=tuple(lst) \n",
    "  return tpl\n",
    "\n",
    "lst=[]\n",
    "n=int(input(\"Enter the number of elements: \"))\n",
    "for i in range(0,n):\n",
    "  element=input()\n",
    "  lst.append(element)\n",
    "res=convertion(lst)\n",
    "print(\"Resultant Tuple after conversion\",res)"
   ]
  },
  {
   "cell_type": "code",
   "execution_count": 17,
   "metadata": {},
   "outputs": [
    {
     "name": "stdout",
     "output_type": "stream",
     "text": [
      "{'b', 2, 1, 4, 3, 'a', 6, 5, '1'}\n"
     ]
    }
   ],
   "source": [
    "#Returns  a new set with all items from both sets by removing duplicates\n",
    "\n",
    "\n",
    "def operation(seta,setb):\n",
    "  setc=seta.union(setb) \n",
    "  return setc\n",
    "\n",
    "\n",
    "seta={'a','b','1',2,4,6}\n",
    "setb={1,2,3,4,5,6,'a','b'}\n",
    "res=operation(seta,setb)\n",
    "print(res)"
   ]
  },
  {
   "cell_type": "code",
   "execution_count": 19,
   "metadata": {},
   "outputs": [
    {
     "name": "stdout",
     "output_type": "stream",
     "text": [
      "{'Ten': 10, 'Twenty': 20, 'Thirty': 30, 'Fourty': 40, 'Fifty': 50}\n"
     ]
    }
   ],
   "source": [
    "#Merge following two Python dictionaries into one\n",
    "\n",
    "\n",
    "def merge(dict1,dict2):\n",
    "  dict3=dict1.copy()\n",
    "  dict3.update(dict2) \n",
    "  return dict3\n",
    "\n",
    "dict1 = {'Ten': 10, 'Twenty': 20, 'Thirty': 30}\n",
    "dict2 = {'Thirty': 30, 'Fourty': 40, 'Fifty': 50}\n",
    "res=merge(dict1,dict2)\n",
    "print(res)"
   ]
  },
  {
   "cell_type": "code",
   "execution_count": 21,
   "metadata": {},
   "outputs": [
    {
     "name": "stdout",
     "output_type": "stream",
     "text": [
      "{'emp1': {'name': 'Jhon', 'salary': 7500}, 'emp2': {'name': 'Emma', 'salary': 8000}, 'emp3': {'name': 'Brad', 'salary': 8500}}\n"
     ]
    }
   ],
   "source": [
    "#Given a Python dictionary, Change Brad’s salary to 8500\n",
    "\n",
    "\n",
    "sampleDict = {\n",
    "'emp1': {'name': 'Jhon', 'salary': 7500},\n",
    "'emp2': {'name': 'Emma', 'salary': 8000},\n",
    "'emp3': {'name': 'Brad', 'salary': 6500}\n",
    "}\n",
    "\n",
    "sampleDict['emp3']['salary']=8500 \n",
    "print(sampleDict)\n",
    "\n"
   ]
  },
  {
   "cell_type": "code",
   "execution_count": 22,
   "metadata": {},
   "outputs": [
    {
     "name": "stdout",
     "output_type": "stream",
     "text": [
      "{'name': 'Kelly', 'age': 25, 'salary': 8000, 'location': 'New york'}\n"
     ]
    }
   ],
   "source": [
    "#Rename key city to location in the following dictionary\n",
    "\n",
    "sampleDict = {\n",
    "\"name\": \"Kelly\",\n",
    "\"age\":25,\n",
    "\"salary\": 8000,\n",
    "\"city\": \"New york\"\n",
    "}\n",
    "sampleDict[\"location\"]=sampleDict.pop(\"city\") \n",
    "print(sampleDict)"
   ]
  }
 ],
 "metadata": {
  "kernelspec": {
   "display_name": "Python 3",
   "language": "python",
   "name": "python3"
  },
  "language_info": {
   "codemirror_mode": {
    "name": "ipython",
    "version": 3
   },
   "file_extension": ".py",
   "mimetype": "text/x-python",
   "name": "python",
   "nbconvert_exporter": "python",
   "pygments_lexer": "ipython3",
   "version": "3.8.3"
  }
 },
 "nbformat": 4,
 "nbformat_minor": 4
}
